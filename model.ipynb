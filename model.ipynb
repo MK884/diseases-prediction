{
 "cells": [
  {
   "cell_type": "code",
   "execution_count": 2,
   "id": "011927b1-1519-44af-a123-b8ef0efc8e7a",
   "metadata": {},
   "outputs": [],
   "source": [
    "import tensorflow as tf\n",
    "from tensorflow.keras import models, layers\n",
    "import matplotlib.pyplot as plt"
   ]
  },
  {
   "cell_type": "code",
   "execution_count": 3,
   "id": "675d148d-9399-4f37-979e-916e31f6fc6b",
   "metadata": {},
   "outputs": [
    {
     "name": "stdout",
     "output_type": "stream",
     "text": [
      "Found 27153 files belonging to 10 classes.\n"
     ]
    }
   ],
   "source": [
    "dataset = tf.keras.utils.image_dataset_from_directory(\n",
    "    \"DiseaseDataset\",\n",
    "    shuffle = True,\n",
    "    image_size = (294,222),\n",
    "    batch_size = 32\n",
    ")"
   ]
  },
  {
   "cell_type": "code",
   "execution_count": 4,
   "id": "4d7d4423-44ff-44d8-9a75-3d30abe5a6bc",
   "metadata": {},
   "outputs": [
    {
     "data": {
      "text/plain": [
       "['1. Eczema 1677',\n",
       " '10. Warts Molluscum and other Viral Infections - 2103',\n",
       " '2. Melanoma 15.75k',\n",
       " '3. Atopic Dermatitis - 1.25k',\n",
       " '4. Basal Cell Carcinoma (BCC) 3323',\n",
       " '5. Melanocytic Nevi (NV) - 7970',\n",
       " '6. Benign Keratosis-like Lesions (BKL) 2624',\n",
       " '7. Psoriasis pictures Lichen Planus and related diseases - 2k',\n",
       " '8. Seborrheic Keratoses and other Benign Tumors - 1.8k',\n",
       " '9. Tinea Ringworm Candidiasis and other Fungal Infections - 1.7k']"
      ]
     },
     "execution_count": 4,
     "metadata": {},
     "output_type": "execute_result"
    }
   ],
   "source": [
    "class_names = dataset.class_names\n",
    "class_names"
   ]
  },
  {
   "cell_type": "code",
   "execution_count": 5,
   "id": "0224dc4e-d508-4817-9cb3-64db769eff77",
   "metadata": {},
   "outputs": [
    {
     "name": "stdout",
     "output_type": "stream",
     "text": [
      "(294, 222, 3)\n"
     ]
    }
   ],
   "source": [
    "for image_batch, label_batch in dataset.take(1):\n",
    "    print(image_batch[0].shape)"
   ]
  },
  {
   "cell_type": "code",
   "execution_count": 6,
   "id": "8f82de4a-1dd0-4ada-ae2d-6127a76a954e",
   "metadata": {},
   "outputs": [
    {
     "data": {
      "text/plain": [
       "849"
      ]
     },
     "execution_count": 6,
     "metadata": {},
     "output_type": "execute_result"
    }
   ],
   "source": [
    "len(dataset)"
   ]
  },
  {
   "cell_type": "code",
   "execution_count": 7,
   "id": "401479e2-a282-4b19-9413-cfdeeee760a6",
   "metadata": {},
   "outputs": [
    {
     "data": {
      "text/plain": [
       "679.2"
      ]
     },
     "execution_count": 7,
     "metadata": {},
     "output_type": "execute_result"
    }
   ],
   "source": [
    "train_size = 0.8\n",
    "len(dataset)*train_size"
   ]
  },
  {
   "cell_type": "code",
   "execution_count": 8,
   "id": "d8f8d7eb-8231-499b-be85-e3cc8d1dbe39",
   "metadata": {},
   "outputs": [],
   "source": [
    "train_ds=dataset.take(679)"
   ]
  },
  {
   "cell_type": "code",
   "execution_count": 9,
   "id": "1d1b912c-b66a-4b12-b11b-ae608c621046",
   "metadata": {},
   "outputs": [],
   "source": [
    "test_ds = dataset.skip(679)"
   ]
  },
  {
   "cell_type": "code",
   "execution_count": 10,
   "id": "31334ebb-6b55-4331-a7a8-ca9b036b73d5",
   "metadata": {},
   "outputs": [
    {
     "data": {
      "text/plain": [
       "84.9"
      ]
     },
     "execution_count": 10,
     "metadata": {},
     "output_type": "execute_result"
    }
   ],
   "source": [
    "849*0.1"
   ]
  },
  {
   "cell_type": "code",
   "execution_count": 11,
   "id": "c12847ed-5332-47ee-a383-9ac05e999b07",
   "metadata": {},
   "outputs": [],
   "source": [
    "val_ds = test_ds.take(85)\n",
    "test_ds = test_ds.skip(85)"
   ]
  },
  {
   "cell_type": "code",
   "execution_count": 12,
   "id": "5a8e1662-c4c3-4839-b074-ec9e8256df7d",
   "metadata": {},
   "outputs": [
    {
     "data": {
      "text/plain": [
       "85"
      ]
     },
     "execution_count": 12,
     "metadata": {},
     "output_type": "execute_result"
    }
   ],
   "source": [
    "len(val_ds)"
   ]
  },
  {
   "cell_type": "code",
   "execution_count": 14,
   "id": "35be85bb-cb2e-48bf-8509-66986ec6b754",
   "metadata": {},
   "outputs": [
    {
     "data": {
      "text/plain": [
       "679"
      ]
     },
     "execution_count": 14,
     "metadata": {},
     "output_type": "execute_result"
    }
   ],
   "source": [
    "len(train_ds)"
   ]
  },
  {
   "cell_type": "code",
   "execution_count": 32,
   "id": "4871e618-28e2-4cf8-9ee9-128881cf5b95",
   "metadata": {},
   "outputs": [],
   "source": [
    "def get_dataset_partitions_tf(ds, train_split=0.8, val_split=0.1, test_split=0.1, shuffle=True, shuffle_size=10000):\n",
    "    ds_size=len(ds)\n",
    "\n",
    "    if shuffle:\n",
    "        ds=ds.shuffle(shuffle_size, seed=12)\n",
    "    \n",
    "    train_size=int(train_split*ds_size)\n",
    "    val_size=int(val_split*ds_size)\n",
    "    test_size=int(test_split*ds_size)\n",
    "\n",
    "    train_ds=ds.take(train_size)\n",
    "    val_ds=ds.skip(train_size).take(val_size)\n",
    "    test_ds=ds.skip(train_size).skip(val_size)\n",
    "    return train_ds, val_ds, test_ds\n",
    "    "
   ]
  },
  {
   "cell_type": "code",
   "execution_count": 33,
   "id": "0283719e-f9b4-4f62-8198-64a5af8a2e01",
   "metadata": {},
   "outputs": [],
   "source": [
    "train_ds, val_ds, test_ds = get_dataset_partitions_tf(dataset)"
   ]
  },
  {
   "cell_type": "code",
   "execution_count": 34,
   "id": "b71adc65-be6a-4ddd-8ebf-2c07d4e6f7f3",
   "metadata": {},
   "outputs": [
    {
     "data": {
      "text/plain": [
       "679"
      ]
     },
     "execution_count": 34,
     "metadata": {},
     "output_type": "execute_result"
    }
   ],
   "source": [
    "len(train_ds)"
   ]
  },
  {
   "cell_type": "code",
   "execution_count": 35,
   "id": "7dd8d3d0-9475-41dc-ae3f-232d1233c2c1",
   "metadata": {},
   "outputs": [],
   "source": [
    "train_ds = train_ds.cache().shuffle(1000).prefetch(buffer_size=tf.data.AUTOTUNE)\n",
    "val_ds = train_ds.cache().shuffle(1000).prefetch(buffer_size=tf.data.AUTOTUNE)\n",
    "test_ds = train_ds.cache().shuffle(1000).prefetch(buffer_size=tf.data.AUTOTUNE)"
   ]
  },
  {
   "cell_type": "code",
   "execution_count": null,
   "id": "5cb07490-1110-408e-95af-b8bd5387f9e6",
   "metadata": {},
   "outputs": [],
   "source": [
    "resize_and_rescale = tf.keras.Sequential([\n",
    "    layers.experimental.preprocessing.Resizing(IMAGE_SIZE, IMAGE_SIZE),\n",
    "    layers.experimental.preprocessing.Rescaling(1.0/255)\n",
    "])"
   ]
  }
 ],
 "metadata": {
  "kernelspec": {
   "display_name": "Python 3 (ipykernel)",
   "language": "python",
   "name": "python3"
  },
  "language_info": {
   "codemirror_mode": {
    "name": "ipython",
    "version": 3
   },
   "file_extension": ".py",
   "mimetype": "text/x-python",
   "name": "python",
   "nbconvert_exporter": "python",
   "pygments_lexer": "ipython3",
   "version": "3.11.5"
  }
 },
 "nbformat": 4,
 "nbformat_minor": 5
}
