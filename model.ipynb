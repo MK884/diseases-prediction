{
 "cells": [
  {
   "cell_type": "code",
   "execution_count": 1,
   "id": "011927b1-1519-44af-a123-b8ef0efc8e7a",
   "metadata": {},
   "outputs": [],
   "source": [
    "import tensorflow as tf\n",
    "from tensorflow.keras import models, layers\n",
    "import matplotlib.pyplot as plt"
   ]
  },
  {
   "cell_type": "code",
   "execution_count": 2,
   "id": "da243a8e-6082-4789-84ff-c23034bde5ad",
   "metadata": {},
   "outputs": [],
   "source": [
    "BATCH_SIZE = 64\n",
    "CHANNELS=3\n",
    "EPOCHS=25"
   ]
  },
  {
   "cell_type": "code",
   "execution_count": 3,
   "id": "675d148d-9399-4f37-979e-916e31f6fc6b",
   "metadata": {},
   "outputs": [
    {
     "name": "stdout",
     "output_type": "stream",
     "text": [
      "Found 10000 files belonging to 10 classes.\n"
     ]
    }
   ],
   "source": [
    "dataset = tf.keras.utils.image_dataset_from_directory(\n",
    "    \"DiseaseDataset\",\n",
    "    shuffle = True,\n",
    "    seed=123,\n",
    "    image_size = (294,222),\n",
    "    batch_size = BATCH_SIZE\n",
    ")"
   ]
  },
  {
   "cell_type": "code",
   "execution_count": 4,
   "id": "4d7d4423-44ff-44d8-9a75-3d30abe5a6bc",
   "metadata": {},
   "outputs": [
    {
     "data": {
      "text/plain": [
       "['1. Eczema',\n",
       " '10. Warts Molluscum',\n",
       " '2. Melanoma',\n",
       " '3. Atopic Dermatitis',\n",
       " '4. Basal Cell Carcinoma',\n",
       " '5. Melanocytic Nevi',\n",
       " '6. Benign Keratosis',\n",
       " '7. Psoriasis pictures Lichen Planus',\n",
       " '8. Seborrheic Keratoses',\n",
       " '9. Tinea Ringworm Candidiasis']"
      ]
     },
     "execution_count": 4,
     "metadata": {},
     "output_type": "execute_result"
    }
   ],
   "source": [
    "class_names = dataset.class_names\n",
    "class_names"
   ]
  },
  {
   "cell_type": "code",
   "execution_count": 5,
   "id": "0224dc4e-d508-4817-9cb3-64db769eff77",
   "metadata": {},
   "outputs": [
    {
     "name": "stdout",
     "output_type": "stream",
     "text": [
      "(294, 222, 3)\n"
     ]
    }
   ],
   "source": [
    "for image_batch, label_batch in dataset.take(1):\n",
    "    print(image_batch[0].shape)"
   ]
  },
  {
   "cell_type": "code",
   "execution_count": 6,
   "id": "8f82de4a-1dd0-4ada-ae2d-6127a76a954e",
   "metadata": {},
   "outputs": [
    {
     "data": {
      "text/plain": [
       "157"
      ]
     },
     "execution_count": 6,
     "metadata": {},
     "output_type": "execute_result"
    }
   ],
   "source": [
    "len(dataset)"
   ]
  },
  {
   "cell_type": "code",
   "execution_count": 7,
   "id": "401479e2-a282-4b19-9413-cfdeeee760a6",
   "metadata": {},
   "outputs": [
    {
     "data": {
      "text/plain": [
       "125.60000000000001"
      ]
     },
     "execution_count": 7,
     "metadata": {},
     "output_type": "execute_result"
    }
   ],
   "source": [
    "train_size = 0.8\n",
    "len(dataset)*train_size"
   ]
  },
  {
   "cell_type": "code",
   "execution_count": 9,
   "id": "d8f8d7eb-8231-499b-be85-e3cc8d1dbe39",
   "metadata": {},
   "outputs": [
    {
     "data": {
      "text/plain": [
       "125"
      ]
     },
     "execution_count": 9,
     "metadata": {},
     "output_type": "execute_result"
    }
   ],
   "source": [
    "train_ds=dataset.take(125)\n",
    "len(train_ds)"
   ]
  },
  {
   "cell_type": "code",
   "execution_count": 10,
   "id": "1d1b912c-b66a-4b12-b11b-ae608c621046",
   "metadata": {},
   "outputs": [
    {
     "data": {
      "text/plain": [
       "32"
      ]
     },
     "execution_count": 10,
     "metadata": {},
     "output_type": "execute_result"
    }
   ],
   "source": [
    "test_ds = dataset.skip(125)\n",
    "len(test_ds)"
   ]
  },
  {
   "cell_type": "code",
   "execution_count": 11,
   "id": "c12847ed-5332-47ee-a383-9ac05e999b07",
   "metadata": {},
   "outputs": [],
   "source": [
    "val_ds = test_ds.take(16)\n",
    "test_ds = test_ds.skip(16)"
   ]
  },
  {
   "cell_type": "code",
   "execution_count": 12,
   "id": "5a8e1662-c4c3-4839-b074-ec9e8256df7d",
   "metadata": {},
   "outputs": [
    {
     "data": {
      "text/plain": [
       "16"
      ]
     },
     "execution_count": 12,
     "metadata": {},
     "output_type": "execute_result"
    }
   ],
   "source": [
    "len(test_ds)"
   ]
  },
  {
   "cell_type": "code",
   "execution_count": 13,
   "id": "21c145ec-dbf0-4824-82c1-523297e04f6e",
   "metadata": {},
   "outputs": [
    {
     "data": {
      "text/plain": [
       "16"
      ]
     },
     "execution_count": 13,
     "metadata": {},
     "output_type": "execute_result"
    }
   ],
   "source": [
    "len(val_ds)"
   ]
  },
  {
   "cell_type": "code",
   "execution_count": 14,
   "id": "35be85bb-cb2e-48bf-8509-66986ec6b754",
   "metadata": {},
   "outputs": [
    {
     "data": {
      "text/plain": [
       "125"
      ]
     },
     "execution_count": 14,
     "metadata": {},
     "output_type": "execute_result"
    }
   ],
   "source": [
    "len(train_ds)"
   ]
  },
  {
   "cell_type": "code",
   "execution_count": 15,
   "id": "4871e618-28e2-4cf8-9ee9-128881cf5b95",
   "metadata": {},
   "outputs": [],
   "source": [
    "def get_dataset_partitions_tf(ds, train_split=0.8, val_split=0.1, test_split=0.1, shuffle=True, shuffle_size=10000):\n",
    "    assert (train_split + test_split + val_split) == 1\n",
    "    ds_size=len(ds)\n",
    "\n",
    "    if shuffle:\n",
    "        ds=ds.shuffle(shuffle_size, seed=12)\n",
    "    \n",
    "    train_size = int(train_split * ds_size)\n",
    "    val_size = int(val_split * ds_size)\n",
    "    \n",
    "    train_ds = ds.take(train_size)    \n",
    "    val_ds = ds.skip(train_size).take(val_size)\n",
    "    test_ds = ds.skip(train_size).skip(val_size)\n",
    "    return train_ds, val_ds, test_ds\n",
    "    "
   ]
  },
  {
   "cell_type": "code",
   "execution_count": 16,
   "id": "0283719e-f9b4-4f62-8198-64a5af8a2e01",
   "metadata": {},
   "outputs": [],
   "source": [
    "train_ds, val_ds, test_ds = get_dataset_partitions_tf(dataset)"
   ]
  },
  {
   "cell_type": "code",
   "execution_count": 17,
   "id": "b71adc65-be6a-4ddd-8ebf-2c07d4e6f7f3",
   "metadata": {},
   "outputs": [
    {
     "data": {
      "text/plain": [
       "125"
      ]
     },
     "execution_count": 17,
     "metadata": {},
     "output_type": "execute_result"
    }
   ],
   "source": [
    "len(train_ds)"
   ]
  },
  {
   "cell_type": "code",
   "execution_count": 18,
   "id": "47f355d2-2303-4650-babe-f20f832f756a",
   "metadata": {},
   "outputs": [
    {
     "data": {
      "text/plain": [
       "15"
      ]
     },
     "execution_count": 18,
     "metadata": {},
     "output_type": "execute_result"
    }
   ],
   "source": [
    "len(val_ds)"
   ]
  },
  {
   "cell_type": "code",
   "execution_count": 19,
   "id": "f9701a13-6dbc-4838-a50e-f70e4bb683a5",
   "metadata": {},
   "outputs": [
    {
     "data": {
      "text/plain": [
       "17"
      ]
     },
     "execution_count": 19,
     "metadata": {},
     "output_type": "execute_result"
    }
   ],
   "source": [
    "len(test_ds)"
   ]
  },
  {
   "cell_type": "code",
   "execution_count": 20,
   "id": "7dd8d3d0-9475-41dc-ae3f-232d1233c2c1",
   "metadata": {},
   "outputs": [],
   "source": [
    "train_ds = train_ds.cache().shuffle(1000).prefetch(buffer_size=tf.data.AUTOTUNE)\n",
    "val_ds = val_ds.cache().shuffle(1000).prefetch(buffer_size=tf.data.AUTOTUNE)\n",
    "test_ds = test_ds.cache().shuffle(1000).prefetch(buffer_size=tf.data.AUTOTUNE)"
   ]
  },
  {
   "cell_type": "code",
   "execution_count": 21,
   "id": "3a84c9ec-53fe-4f0e-bbc1-761f8de2fa50",
   "metadata": {},
   "outputs": [],
   "source": [
    "resize_and_rescale = tf.keras.Sequential([\n",
    "    layers.experimental.preprocessing.Resizing(294, 222),\n",
    "    layers.experimental.preprocessing.Rescaling(1./255)\n",
    "])"
   ]
  },
  {
   "cell_type": "code",
   "execution_count": 22,
   "id": "842ce2a1-8eef-4bbf-96cf-ab3321d94864",
   "metadata": {},
   "outputs": [],
   "source": [
    "data_augmentation = tf.keras.Sequential([\n",
    "    layers.experimental.preprocessing.RandomFlip(\"horizontal_and_vertical\"),\n",
    "    layers.experimental.preprocessing.RandomRotation(0.2),\n",
    "])"
   ]
  },
  {
   "cell_type": "code",
   "execution_count": 22,
   "id": "cd27ed7f-6663-4b36-bbfb-f0c38784844c",
   "metadata": {},
   "outputs": [],
   "source": [
    "train_ds = train_ds.map(\n",
    "    lambda x, y: (data_augmentation(x, training=True), y)\n",
    ").prefetch(buffer_size=tf.data.AUTOTUNE)"
   ]
  },
  {
   "cell_type": "code",
   "execution_count": 23,
   "id": "8575cfa9-2b45-42ea-89e8-f8cc6a0e8742",
   "metadata": {},
   "outputs": [],
   "source": [
    "input_shape = (BATCH_SIZE, 294, 222, CHANNELS)\n",
    "\n",
    "model = models.Sequential([\n",
    "    resize_and_rescale,\n",
    "    data_augmentation,\n",
    "    layers.Conv2D(filters=32, kernel_size=(3,3), activation='relu', input_shape=(294,222,3)),\n",
    "    layers.MaxPooling2D((2,2)),\n",
    "    layers.Conv2D(filters=64, kernel_size=(3,3), activation='relu', input_shape=(294,222,3)),\n",
    "    layers.MaxPooling2D((2,2)),\n",
    "    layers.Conv2D(filters=64, kernel_size=(3,3), activation='relu', input_shape=(294,222,3)),\n",
    "    layers.MaxPooling2D((2,2)),\n",
    "    layers.Conv2D(filters=64, kernel_size=(3,3), activation='relu', input_shape=(294,222,3)),\n",
    "    layers.MaxPooling2D((2,2)),\n",
    "\n",
    "    layers.Flatten(),\n",
    "    layers.Dense(64,activation='relu'),\n",
    "    layers.Dense(10,activation='softmax'),    \n",
    "])\n",
    "\n",
    "model.build(input_shape=input_shape)"
   ]
  },
  {
   "cell_type": "code",
   "execution_count": 24,
   "id": "e28553dd-ca30-4556-83f6-ce28b921a3b1",
   "metadata": {},
   "outputs": [],
   "source": [
    "model.compile(\n",
    "    optimizer='adam',\n",
    "    loss='sparse_categorical_crossentropy',\n",
    "    metrics=['accuracy']\n",
    ")"
   ]
  },
  {
   "cell_type": "code",
   "execution_count": 25,
   "id": "d97dc123-ba21-48db-9463-d82f73615d67",
   "metadata": {},
   "outputs": [
    {
     "name": "stdout",
     "output_type": "stream",
     "text": [
      "Epoch 1/5\n",
      "125/125 [==============================] - 500s 4s/step - loss: 1.9723 - accuracy: 0.2529 - val_loss: 1.7176 - val_accuracy: 0.3354\n",
      "Epoch 2/5\n",
      "125/125 [==============================] - 424s 3s/step - loss: 1.6591 - accuracy: 0.3701 - val_loss: 1.5897 - val_accuracy: 0.4000\n",
      "Epoch 3/5\n",
      "125/125 [==============================] - 418s 3s/step - loss: 1.5669 - accuracy: 0.3956 - val_loss: 1.5065 - val_accuracy: 0.4271\n",
      "Epoch 4/5\n",
      "125/125 [==============================] - 419s 3s/step - loss: 1.5012 - accuracy: 0.4284 - val_loss: 1.4117 - val_accuracy: 0.4729\n",
      "Epoch 5/5\n",
      "125/125 [==============================] - 415s 3s/step - loss: 1.4445 - accuracy: 0.4432 - val_loss: 1.4934 - val_accuracy: 0.4104\n"
     ]
    }
   ],
   "source": [
    "history = model.fit(\n",
    "    train_ds,\n",
    "    batch_size=BATCH_SIZE,\n",
    "    validation_data=val_ds,\n",
    "    verbose=1,\n",
    "    epochs=5\n",
    ")"
   ]
  },
  {
   "cell_type": "code",
   "execution_count": 26,
   "id": "9d9312e5-fa3b-4116-b730-0f657a5a81b4",
   "metadata": {},
   "outputs": [
    {
     "name": "stdout",
     "output_type": "stream",
     "text": [
      "17/17 [==============================] - 43s 646ms/step - loss: 1.3974 - accuracy: 0.4721\n"
     ]
    }
   ],
   "source": [
    "scores = model.evaluate(test_ds)"
   ]
  }
 ],
 "metadata": {
  "kernelspec": {
   "display_name": "Python 3 (ipykernel)",
   "language": "python",
   "name": "python3"
  },
  "language_info": {
   "codemirror_mode": {
    "name": "ipython",
    "version": 3
   },
   "file_extension": ".py",
   "mimetype": "text/x-python",
   "name": "python",
   "nbconvert_exporter": "python",
   "pygments_lexer": "ipython3",
   "version": "3.11.5"
  }
 },
 "nbformat": 4,
 "nbformat_minor": 5
}
